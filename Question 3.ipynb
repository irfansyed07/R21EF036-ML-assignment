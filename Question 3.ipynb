{
 "cells": [
  {
   "cell_type": "code",
   "execution_count": 1,
   "id": "67d9ff32",
   "metadata": {},
   "outputs": [],
   "source": [
    "import pandas as pd\n",
    "from sklearn.model_selection import train_test_split\n",
    "from sklearn.preprocessing import OneHotEncoder\n",
    "from sklearn.linear_model import LinearRegression\n",
    "from sklearn.tree import DecisionTreeRegressor\n",
    "from sklearn.ensemble import RandomForestRegressor, GradientBoostingRegressor\n",
    "from sklearn.svm import SVR\n",
    "from sklearn.metrics import mean_absolute_error, mean_squared_error, r2_score"
   ]
  },
  {
   "cell_type": "code",
   "execution_count": 2,
   "id": "4d02e5f7",
   "metadata": {},
   "outputs": [],
   "source": [
    "data=pd.read_csv(\"C:/Users/HP/OneDrive/Desktop/prices_clean.csv\")"
   ]
  },
  {
   "cell_type": "code",
   "execution_count": 3,
   "id": "6fac4c3c",
   "metadata": {},
   "outputs": [],
   "source": [
    "data = pd.get_dummies(data, columns=['year', 'make', 'model'])"
   ]
  },
  {
   "cell_type": "code",
   "execution_count": 4,
   "id": "ad91ecd8",
   "metadata": {},
   "outputs": [],
   "source": [
    "X = data.drop('price', axis=1)\n",
    "y = data['price']\n"
   ]
  },
  {
   "cell_type": "code",
   "execution_count": 5,
   "id": "762539f2",
   "metadata": {},
   "outputs": [],
   "source": [
    "X_train, X_test, y_train, y_test = train_test_split(X, y, test_size=0.2, random_state=42)\n"
   ]
  },
  {
   "cell_type": "code",
   "execution_count": 7,
   "id": "edb6c741",
   "metadata": {},
   "outputs": [],
   "source": [
    "models = {\n",
    "    'Linear Regression': LinearRegression(),\n",
    "    'Decision Tree': DecisionTreeRegressor(),\n",
    "    'Random Forest': RandomForestRegressor(),\n",
    "    'Gradient Boosting': GradientBoostingRegressor(),\n",
    "    'Support Vector Regression': SVR()\n",
    "    }\n",
    "\n",
    "results = {}\n",
    "for name, model in models.items():\n",
    "    model.fit(X_train, y_train)\n",
    "    y_pred = model.predict(X_test)\n",
    "    mae = mean_absolute_error(y_test, y_pred)\n",
    "    mse = mean_squared_error(y_test, y_pred)\n",
    "    r2 = r2_score(y_test, y_pred)\n",
    "    results[name] = {'MAE': mae, 'MSE': mse, 'R-squared': r2}\n"
   ]
  },
  {
   "cell_type": "code",
   "execution_count": 8,
   "id": "a4bb009c",
   "metadata": {},
   "outputs": [
    {
     "name": "stdout",
     "output_type": "stream",
     "text": [
      "Model: Linear Regression\n",
      "MAE: 83675.78\n",
      "MSE: 70415839793.85\n",
      "R-squared: 0.68\n",
      "\n",
      "Model: Decision Tree\n",
      "MAE: 86545.06\n",
      "MSE: 110528247084.27\n",
      "R-squared: 0.49\n",
      "\n",
      "Model: Random Forest\n",
      "MAE: 78934.84\n",
      "MSE: 92296405879.87\n",
      "R-squared: 0.58\n",
      "\n",
      "Model: Gradient Boosting\n",
      "MAE: 93795.95\n",
      "MSE: 100101426306.50\n",
      "R-squared: 0.54\n",
      "\n",
      "Model: Support Vector Regression\n",
      "MAE: 141014.53\n",
      "MSE: 233506381378.98\n",
      "R-squared: -0.07\n",
      "\n"
     ]
    }
   ],
   "source": [
    "for name, metrics in results.items():\n",
    "    print(f'Model: {name}')\n",
    "    print(f'MAE: {metrics[\"MAE\"]:.2f}')\n",
    "    print(f'MSE: {metrics[\"MSE\"]:.2f}')\n",
    "    print(f'R-squared: {metrics[\"R-squared\"]:.2f}')\n",
    "    print()"
   ]
  },
  {
   "cell_type": "code",
   "execution_count": null,
   "id": "36d5e57e",
   "metadata": {},
   "outputs": [],
   "source": []
  }
 ],
 "metadata": {
  "kernelspec": {
   "display_name": "Python 3 (ipykernel)",
   "language": "python",
   "name": "python3"
  },
  "language_info": {
   "codemirror_mode": {
    "name": "ipython",
    "version": 3
   },
   "file_extension": ".py",
   "mimetype": "text/x-python",
   "name": "python",
   "nbconvert_exporter": "python",
   "pygments_lexer": "ipython3",
   "version": "3.11.5"
  }
 },
 "nbformat": 4,
 "nbformat_minor": 5
}
